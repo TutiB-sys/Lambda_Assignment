{
 "cells": [
  {
   "cell_type": "markdown",
   "metadata": {},
   "source": [
    "# Lambda ,Map, Filter,& Recursion"
   ]
  },
  {
   "cell_type": "markdown",
   "metadata": {},
   "source": [
    "#### Returning a Lambda from a Function"
   ]
  },
  {
   "cell_type": "code",
   "execution_count": 17,
   "metadata": {},
   "outputs": [
    {
     "name": "stdout",
     "output_type": "stream",
     "text": [
      "<function returnFunc at 0x111ec82c0>\n",
      "8\n",
      "19\n"
     ]
    }
   ],
   "source": [
    "def multiply_test(num):\n",
    "    return num*4\n",
    "def returnFunc():\n",
    "    test=4\n",
    "    def multiply(num):\n",
    "        return num*2\n",
    "    return multiply\n",
    "f_return=returnFunc()\n",
    "print(returnFunc)\n",
    "print(f_return(4))\n",
    "\n",
    "#Lambda function return from a regular function\n",
    "def returnLam(b,c):\n",
    "    return lambda x,a: x+a+b+c\n",
    "r_lamb=returnLam(4,5)\n",
    "print(r_lamb(5,5))"
   ]
  },
  {
   "cell_type": "markdown",
   "metadata": {},
   "source": [
    "#### If Statements within Lambdas"
   ]
  },
  {
   "cell_type": "code",
   "execution_count": 18,
   "metadata": {},
   "outputs": [
    {
     "name": "stdout",
     "output_type": "stream",
     "text": [
      "10\n",
      "30\n"
     ]
    }
   ],
   "source": [
    "#Lambda x: True if(condition) else False\n",
    "\n",
    "f_condition=lambda num: num*2 if num>10 else num+2\n",
    "\n",
    "print(f_condition(8))\n",
    "print(f_condition(15))"
   ]
  },
  {
   "cell_type": "markdown",
   "metadata": {},
   "source": [
    "## Map <br>\n"
   ]
  },
  {
   "cell_type": "code",
   "execution_count": 41,
   "metadata": {},
   "outputs": [
    {
     "name": "stdout",
     "output_type": "stream",
     "text": [
      "[(16, 16), (11, 10), (400, 9), (9, 4), (225, 36)]\n"
     ]
    }
   ],
   "source": [
    "#map(function, iterable)\n",
    "#an iterable is something you can loop over: such as list, dic, tuple, and string\n",
    "# normally the usage of map happens with a pre defined function, but we can use lambadas as well \n",
    "def squared(num1, num2):\n",
    "    if num1<10 and num2<10:\n",
    "        return num1**2, num2**2\n",
    "    else:\n",
    "        return num1, num2\n",
    "numbers=[4,11,20,3,15,20]\n",
    "more_numbers=[4,10,3,2,6]\n",
    "squared_num_map=list(map(squared, numbers, more_numbers))\n",
    "print(squared_num_map)"
   ]
  },
  {
   "cell_type": "markdown",
   "metadata": {},
   "source": [
    "#### Using Lambda's with Map"
   ]
  },
  {
   "cell_type": "code",
   "execution_count": 43,
   "metadata": {},
   "outputs": [
    {
     "name": "stdout",
     "output_type": "stream",
     "text": [
      "[(16, 16), (11, 10), (20, 3), (9, 4), (15, 6)]\n"
     ]
    }
   ],
   "source": [
    "squared_nums_lamb= list(map(lambda x,y: (x**2, y**2) if x<10 and y<10 else (x , y), numbers, more_numbers))\n",
    "                        \n",
    "print(squared_nums_lamb)"
   ]
  },
  {
   "cell_type": "markdown",
   "metadata": {},
   "source": [
    "\n",
    "<p>Using the map function to double each number and minus it by one in the list by using a lambda function</p>"
   ]
  },
  {
   "cell_type": "code",
   "execution_count": 66,
   "metadata": {},
   "outputs": [
    {
     "name": "stdout",
     "output_type": "stream",
     "text": [
      "[8, 8, 15, 24]\n"
     ]
    }
   ],
   "source": [
    "\n",
    "\n",
    "numbers=[3,3,4,5]\n",
    "double_minus=list(map(lambda x: (x*x)-1, numbers ))\n",
    "print(double_minus)"
   ]
  },
  {
   "cell_type": "markdown",
   "metadata": {},
   "source": [
    "## Filter() <br>\n"
   ]
  },
  {
   "cell_type": "code",
   "execution_count": 92,
   "metadata": {},
   "outputs": [
    {
     "name": "stdout",
     "output_type": "stream",
     "text": [
      "['Max']\n"
     ]
    }
   ],
   "source": [
    "#filter a name starts with \"m\"\n",
    "names=['Bob', 'Andy', 'Max', \"Evan\", \"Angelina\"]\n",
    "\n",
    "def a_names(name):\n",
    "    if name[0].lower()=='m':\n",
    "        return True\n",
    "    else:\n",
    "        return False\n",
    "    \n",
    "a_new_name=list(filter(a_names, names))\n",
    "print(a_new_name)\n",
    "    \n"
   ]
  },
  {
   "cell_type": "markdown",
   "metadata": {},
   "source": [
    "#### Using Lambda's with Filter()"
   ]
  },
  {
   "cell_type": "code",
   "execution_count": 93,
   "metadata": {},
   "outputs": [
    {
     "name": "stdout",
     "output_type": "stream",
     "text": [
      "['Andy', 'Angelina']\n"
     ]
    }
   ],
   "source": [
    "new_names_lambda=list(filter(lambda name:True if name[0].lower()=='a' else False, names))\n",
    "print(new_names_lambda)"
   ]
  },
  {
   "cell_type": "markdown",
   "metadata": {},
   "source": [
    "\n",
    "<p>Filter out all the numbers that are below the mean of the list.<br><b>"
   ]
  },
  {
   "cell_type": "code",
   "execution_count": 95,
   "metadata": {},
   "outputs": [
    {
     "name": "stdout",
     "output_type": "stream",
     "text": [
      "7\n",
      "[2, 4, 6, 4, 4, 4]\n"
     ]
    }
   ],
   "source": [
    "from statistics import mean\n",
    "nums=[2,7,4,21,6,9,4,4,4,9]\n",
    "mean_nums=mean(nums)\n",
    "print (mean_nums)\n",
    "\n",
    "below_mean=list(filter(lambda num: True if num<mean_nums else False, nums ))\n",
    "print(below_mean)"
   ]
  },
  {
   "cell_type": "markdown",
   "metadata": {},
   "source": [
    "## Recursion <br>\n"
   ]
  },
  {
   "cell_type": "markdown",
   "metadata": {},
   "source": [
    "#### Implementing a Base Case"
   ]
  },
  {
   "cell_type": "code",
   "execution_count": 103,
   "metadata": {},
   "outputs": [
    {
     "name": "stdout",
     "output_type": "stream",
     "text": [
      "addNums(5)=5+addNums(4)\n",
      "addNums(4)=4+addNums(3)\n",
      "addNums(3)=3+addNums(2)\n",
      "addNums(2)=2+addNums(1)\n",
      "addnum(1)=1\n"
     ]
    },
    {
     "data": {
      "text/plain": [
       "15"
      ]
     },
     "execution_count": 103,
     "metadata": {},
     "output_type": "execute_result"
    }
   ],
   "source": [
    "def addNums(num):\n",
    "# set abase to stop recursion from going forever\n",
    "    if num<=1:\n",
    "        print(\"addnum(1)=1\")\n",
    "        return num\n",
    "    else:\n",
    "        print(f\"addNums({num})={num}+addNums({num-1})\")\n",
    "        return num+ addNums(num-1)\n",
    "addNums(5)"
   ]
  },
  {
   "cell_type": "markdown",
   "metadata": {},
   "source": [
    "#### Writing a Factorial Function"
   ]
  },
  {
   "cell_type": "code",
   "execution_count": 107,
   "metadata": {},
   "outputs": [
    {
     "data": {
      "text/plain": [
       "120"
      ]
     },
     "execution_count": 107,
     "metadata": {},
     "output_type": "execute_result"
    }
   ],
   "source": [
    "#!5 is the mutiplication of 5 to 1\n",
    "\n",
    "def factorial(num):\n",
    "    if num<=1:\n",
    "        return num\n",
    "    else:\n",
    "        return num*factorial(num-1)\n",
    "    \n",
    "factorial(5)\n",
    "    \n"
   ]
  },
  {
   "cell_type": "markdown",
   "metadata": {},
   "source": [
    "\n",
    "<p>Writing a recursive function that subtracts all numbers to the argument given.</p>"
   ]
  },
  {
   "cell_type": "code",
   "execution_count": 108,
   "metadata": {},
   "outputs": [
    {
     "name": "stdout",
     "output_type": "stream",
     "text": [
      "subNums(5)=5-subNums(4)\n",
      "subNums(4)=4-subNums(3)\n",
      "subNums(3)=3-subNums(2)\n",
      "subNums(2)=2-subNums(1)\n",
      "subNums(1)=1\n"
     ]
    },
    {
     "data": {
      "text/plain": [
       "3"
      ]
     },
     "execution_count": 108,
     "metadata": {},
     "output_type": "execute_result"
    }
   ],
   "source": [
    "def subNums(num):\n",
    "# set abase to stop recursion from going forever\n",
    "    if num<=1:\n",
    "        print(\"subNums(1)=1\")\n",
    "        return num\n",
    "    else:\n",
    "        print(f\"subNums({num})={num}-subNums({num-1})\")\n",
    "        return num-subNums(num-1)\n",
    "subNums(5)"
   ]
  },
  {
   "cell_type": "markdown",
   "metadata": {},
   "source": [
    "\n",
    "<p>Filtering out all of the empty strings from the list below</p>\n",
    "\n",
    "`Output: ['Argentina', 'San Diego', 'Boston', 'New York']`"
   ]
  },
  {
   "cell_type": "code",
   "execution_count": 115,
   "metadata": {},
   "outputs": [
    {
     "name": "stdout",
     "output_type": "stream",
     "text": [
      "['Argentina', 'San Diego', 'Boston', 'New York']\n"
     ]
    }
   ],
   "source": [
    "places = [\" \",\"Argentina\", \" \", \"San Diego\",\"\",\" \",\"\",\"Boston\",\"New York\"]\n",
    "def removeQuat(place):        \n",
    "    place = place.strip()  \n",
    "    if(place == \"\"):    \n",
    "        return False\n",
    "    else:\n",
    "        return True     \n",
    "    \n",
    "newPlaces = list(filter(removeQuat, places))   \n",
    "print(newPlaces)     "
   ]
  },
  {
   "cell_type": "markdown",
   "metadata": {},
   "source": [
    "\n",
    "<p>Write an anonymous function that sorts this list by the last name...<br><b>\n",
    "\n",
    "`Output: ['Victor aNisimov', 'Gary A.J. Bernstein', 'Joel Carter', 'Andrew P. Garfield', 'David hassELHOFF']`"
   ]
  },
  {
   "cell_type": "code",
   "execution_count": 132,
   "metadata": {},
   "outputs": [
    {
     "name": "stdout",
     "output_type": "stream",
     "text": [
      "['Victor aNisimov', 'Gary A.J. Bernstein', 'Joel Carter', 'Andrew P. Garfield', 'David hassELHOFF']\n"
     ]
    }
   ],
   "source": [
    "author = [\"Joel Carter\", \"Victor aNisimov\", \"Andrew P. Garfield\",\"David hassELHOFF\",\"Gary A.J. Bernstein\"]\n",
    "author.sort(key = lambda name: name.split()[-1].lower())\n",
    "print(author)"
   ]
  },
  {
   "cell_type": "markdown",
   "metadata": {},
   "source": [
    "\n",
    "<p>Convert the list below from Celsius to Farhenheit, using the map function with a lambda...</p>\n",
    "\n",
    "`Output: [('Nashua', 89.6), ('Boston', 53.6), ('Los Angelos', 111.2), ('Miami', 84.2)]\n",
    "`"
   ]
  },
  {
   "cell_type": "code",
   "execution_count": 133,
   "metadata": {},
   "outputs": [
    {
     "name": "stdout",
     "output_type": "stream",
     "text": [
      "[('Nashua', 89.6), ('Boston', 53.6), ('Los Angelos', 111.2), ('Miami', 84.2)]\n"
     ]
    }
   ],
   "source": [
    "# F = (9/5)*C + 32\n",
    "places = [('Nashua',32),(\"Boston\",12),(\"Los Angelos\",44),(\"Miami\",29)]\n",
    "f_Temp = list(map(lambda x:  (x[0], (9/5) * x[1]+ 32), places))\n",
    "print(f_Temp) \n",
    " "
   ]
  },
  {
   "cell_type": "markdown",
   "metadata": {},
   "source": [
    "\n",
    "<p>Write a recursion function to perform the fibonacci sequence up to the number passed in.</p>\n",
    "\n",
    "`Output for fib(5) => \n",
    "Iteration 0: 1\n",
    "Iteration 1: 1\n",
    "Iteration 2: 2\n",
    "Iteration 3: 3\n",
    "Iteration 4: 5\n",
    "Iteration 5: 8`"
   ]
  },
  {
   "cell_type": "code",
   "execution_count": 160,
   "metadata": {
    "scrolled": true
   },
   "outputs": [
    {
     "name": "stdout",
     "output_type": "stream",
     "text": [
      "Iteration 0: 1\n",
      "Iteration 1: 1\n",
      "Iteration 2: 2\n",
      "Iteration 3: 3\n",
      "Iteration 4: 5\n",
      "Iteration 5: 8\n"
     ]
    }
   ],
   "source": [
    "\n",
    "\n",
    "def fibonacci(n):\n",
    "    if n == 0 or n == 1:\n",
    "        return 1\n",
    "    else:\n",
    "        return fibonacci(n-1) + fibonacci(n-2)\n",
    "\n",
    "def fibonacci_print(n):\n",
    "    for i in range(n+1):\n",
    "        print(f\"Iteration {(i)}: {fibonacci(i)}\")\n",
    "\n",
    "fibonacci_print(5)"
   ]
  }
 ],
 "metadata": {
  "kernelspec": {
   "display_name": "Python 3 (ipykernel)",
   "language": "python",
   "name": "python3"
  },
  "language_info": {
   "codemirror_mode": {
    "name": "ipython",
    "version": 3
   },
   "file_extension": ".py",
   "mimetype": "text/x-python",
   "name": "python",
   "nbconvert_exporter": "python",
   "pygments_lexer": "ipython3",
   "version": "3.11.5"
  }
 },
 "nbformat": 4,
 "nbformat_minor": 2
}
